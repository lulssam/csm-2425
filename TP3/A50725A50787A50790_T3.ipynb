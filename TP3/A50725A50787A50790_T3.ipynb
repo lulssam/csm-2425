{
 "cells": [
  {
   "cell_type": "markdown",
   "id": "4a1af629",
   "metadata": {},
   "source": [
    "# Trabalho Prático 3\n",
    "## ISEL - LEIM\n",
    "\n",
    "## Docente - Gonçalo Marques\n",
    "\n",
    "### Trabalho realizado por:\n",
    "Mª Luísa Melo e Sampaio Nº50799\n",
    "André Nº\n",
    "Carlos Ceita Nº50950"
   ]
  },
  {
   "cell_type": "code",
   "execution_count": 1,
   "id": "84144012",
   "metadata": {},
   "outputs": [],
   "source": [
    "#imports\n",
    "from time import time\n",
    "from os import path\n",
    "import numpy as np\n",
    "import cv2\n",
    "import matplotlib.pyplot as plt\n",
    "import heapq\n",
    "from collections import defaultdict"
   ]
  },
  {
   "cell_type": "markdown",
   "id": "74981398",
   "metadata": {},
   "source": [
    "### Exercicio 1"
   ]
  },
  {
   "cell_type": "code",
   "execution_count": null,
   "id": "54dedcc8",
   "metadata": {},
   "outputs": [],
   "source": [
    "def gen_huff_table(simbolos):\n",
    "    \"\"\"Função que cria a tabela de códigos de Huffman a partir de um dicionário \n",
    "\n",
    "    Args:\n",
    "        simbolos (dicionário): dicionário com as frequências de cada letra\n",
    "\n",
    "    Returns:\n",
    "        dicionário\n",
    "    \"\"\"\n",
    "    # Criar heap de nós: [peso, [[símbolo, código]]]\n",
    "    heap = [[peso, [[simbolo, \"\"]]] for simbolo, peso in simbolos.items()]\n",
    "    heapq.heapify(heap)\n",
    "\n",
    "    # Construir árvore de Huffman\n",
    "    while len(heap) > 1:\n",
    "        peso_lo, lista_lo = heapq.heappop(heap)\n",
    "        peso_hi, lista_hi = heapq.heappop(heap)\n",
    "\n",
    "        # Prefixos: 0 para o ramo de menor peso, 1 para o ramo de maior peso\n",
    "        for par in lista_lo:\n",
    "            par[1] = '0' + par[1]\n",
    "        for par in lista_hi:\n",
    "            par[1] = '1' + par[1]\n",
    "\n",
    "        # Reunir em novo nó\n",
    "        novo_no = [peso_lo + peso_hi, lista_lo + lista_hi]\n",
    "        heapq.heappush(heap, novo_no)\n",
    "\n",
    "    # Extrair tabela final\n",
    "    _, tabela = heapq.heappop(heap)\n",
    "    # Ordenar por comprimento e lexicograficamente\n",
    "    tabela.sort(key=lambda par: (len(par[1]), par[0]))\n",
    "\n",
    "    # Converter para dicionário {símbolo: código}\n",
    "    return {simbolo: codigo for simbolo, codigo in tabela}"
   ]
  },
  {
   "cell_type": "code",
   "execution_count": 16,
   "id": "c4a6bb81",
   "metadata": {},
   "outputs": [
    {
     "name": "stdout",
     "output_type": "stream",
     "text": [
      "{'o': '01', 'i': '100', 'n': '000', 'r': '101', 't': '001', 'a': '1101', 'g': '1110', 'l': '1111', 's': '1100'}\n",
      "mensagem:  ooooorrriiittnnllaaggs\n"
     ]
    }
   ],
   "source": [
    "dic = {'o': 5, 'r': 3, 'i': 3, 't': 2, 'n': 2, 'l': 2, 'a': 2, 'g': 2, 's': 1} # otorrinolaringologista\n",
    "# não dá exatamente a mesma do que nos slides, perguntar ao stor se é normal\n",
    "\n",
    "tabela = gen_huff_table(dic)\n",
    "\n",
    "print(tabela) \n",
    "\n",
    "mensagem = \"\"\n",
    "for letra, indice in dic.items():\n",
    "    mensagem += letra * indice\n",
    "\n",
    "print(\"mensagem: \", mensagem)\n"
   ]
  },
  {
   "cell_type": "markdown",
   "id": "0a09db8b",
   "metadata": {},
   "source": [
    "### Exercício 2"
   ]
  },
  {
   "cell_type": "code",
   "execution_count": 17,
   "id": "9dfcb2b0",
   "metadata": {},
   "outputs": [],
   "source": [
    "def encode_huff(mensagem, tabela):\n",
    "    \"\"\"Dada uma mensagem e a tabela do ponto anterior, retorna uma sequência de bits com mensagem codificada.\n",
    "    \n",
    "    Args:\n",
    "        mensagem (): mensagem a codificar\n",
    "        tabela (): tabela gerada com gen_huff_table\n",
    "        \n",
    "    Returns:\n",
    "        Mensagem codificada em bits\n",
    "    \"\"\"\n",
    "    mensagem_codificada = ''.join(tabela[simbolo] for simbolo in mensagem)\n",
    "    bits_total = len(mensagem_codificada)\n",
    "    return mensagem_codificada, bits_total\n",
    "    "
   ]
  },
  {
   "cell_type": "code",
   "execution_count": 18,
   "id": "23810a35",
   "metadata": {},
   "outputs": [
    {
     "name": "stdout",
     "output_type": "stream",
     "text": [
      "Tabela de Huffman\n",
      "o: 01\n",
      "i: 100\n",
      "n: 000\n",
      "r: 101\n",
      "t: 001\n",
      "a: 1101\n",
      "g: 1110\n",
      "l: 1111\n",
      "s: 1100\n",
      "\n",
      "Mensagem codificada: \n",
      "01010101011011011011001001000010010000001111111111011101111011101100\n",
      "\n",
      "Tamanho total da mensagem codificada em bits: 68\n"
     ]
    }
   ],
   "source": [
    "#exemplo de uso\n",
    "mensagem_codificada, tamanho_total = encode_huff(mensagem=mensagem, tabela=tabela)\n",
    "\n",
    "print(\"Tabela de Huffman\")\n",
    "for simbolo, codigo in tabela.items():\n",
    "    print(f\"{simbolo}: {codigo}\")\n",
    "    \n",
    "print(f\"\\nMensagem codificada: \\n{mensagem_codificada}\")\n",
    "print(f\"\\nTamanho total da mensagem codificada em bits: {tamanho_total}\")"
   ]
  },
  {
   "cell_type": "code",
   "execution_count": null,
   "id": "9a49a4d0",
   "metadata": {},
   "outputs": [],
   "source": [
    "# ler um dos ficheiros\n",
    "x = np.fromfile(\"LenaGray.tif\", dtype=uint8)\n",
    "\n",
    "# calcular histograma\n",
    "h, bins, patches = plt.hist(x, 256, [0, 256])\n",
    "\n",
    "# gerar código huffman\n",
    "to = time()\n",
    "tabela_codigo = gen_huff_table(np.arange(0,256), h)\n",
    "\n",
    "t1 = time()\n",
    "print(\"Time: \", t1 - to)\n",
    "\n",
    "# codificar a mensagem\n",
    "seq_bit0 = encode_huff(x, tabela_codigo)\n",
    "\n",
    "# codificar tabela\n",
    "seq_bit1 = encode_huff_table(tabela_codigo)\n",
    "\n",
    "# concatenar sequencia de bits fa tabela e da mensagem\n",
    "...\n",
    "\n",
    "# escrver ficheiro\n",
    "write2file(..., filename)\n",
    "t2 = time()\n",
    "print(\"Time: \", t2 - t1)\n",
    "\n",
    "# ler ficheiro e descodificar a tabela\n",
    "tabela_codigo, seq_bit1 = read_file(filename)\n",
    "\n",
    "# descodificar mensagem\n",
    "yi = decode_huff(seq_bit1, tabela_codigo)\n",
    "t3 = time()\n",
    "print(\"Time: \", t3 - t2)\n",
    "\n",
    "size_ini = path.getsize(\"filename_original_image\")\n",
    "size_end = path.getsize(\"filename_compressed\")\n",
    "print(\"Taxa: \", 1. * size_ini/size_end)"
   ]
  }
 ],
 "metadata": {
  "kernelspec": {
   "display_name": ".venv",
   "language": "python",
   "name": "python3"
  },
  "language_info": {
   "codemirror_mode": {
    "name": "ipython",
    "version": 3
   },
   "file_extension": ".py",
   "mimetype": "text/x-python",
   "name": "python",
   "nbconvert_exporter": "python",
   "pygments_lexer": "ipython3",
   "version": "3.13.2"
  }
 },
 "nbformat": 4,
 "nbformat_minor": 5
}
