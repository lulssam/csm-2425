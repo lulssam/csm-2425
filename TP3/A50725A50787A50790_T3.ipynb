{
 "cells": [
  {
   "cell_type": "markdown",
   "id": "4a1af629",
   "metadata": {},
   "source": [
    "# Trabalho Prático 3\n",
    "## ISEL - LEIM\n",
    "\n",
    "## Docente - Gonçalo Marques\n",
    "\n",
    "### Trabalho realizado por:\n",
    "Mª Luísa Melo e Sampaio Nº50799\n",
    "André Nº\n",
    "Carlos Ceita Nº50950"
   ]
  },
  {
   "cell_type": "code",
   "execution_count": null,
   "id": "84144012",
   "metadata": {},
   "outputs": [],
   "source": [
    "#imports\n",
    "from time import time\n",
    "from os import path\n",
    "import numpy as np\n",
    "import cv2\n",
    "import matplotlib.pyplot as plt"
   ]
  },
  {
   "cell_type": "code",
   "execution_count": null,
   "id": "9a49a4d0",
   "metadata": {},
   "outputs": [],
   "source": [
    "# ler um dos ficheiros\n",
    "x = np.fromfile(\"LenaGray.tif\", dtype=uint8)\n",
    "\n",
    "# calcular histograma\n",
    "h, bins, patches = plt.hist(x, 256, [0, 256])\n",
    "\n",
    "# gerar código huffman\n",
    "to = time()\n",
    "tabela_codigo = gen_huff_table(np.arange(0,256), h)\n",
    "\n",
    "t1 = time()\n",
    "print(\"Time: \", t1 - to)\n",
    "\n",
    "# codificar a mensagem\n",
    "seq_bit0 = encode_huff(x, tabela_codigo)\n",
    "\n",
    "# codificar tabela\n",
    "seq_bit1 = encode_huff_table(tabela_codigo)\n",
    "\n",
    "# concatenar sequencia de bits fa tabela e da mensagem\n",
    "...\n",
    "\n",
    "# escrver ficheiro\n",
    "write2file(..., filename)\n",
    "t2 = time()\n",
    "print(\"Time: \", t2 - t1)\n",
    "\n",
    "# ler ficheiro e descodificar a tabela\n",
    "tabela_codigo, seq_bit1 = read_file(filename)\n",
    "\n",
    "# descodificar mensagem\n",
    "yi = decode_huff(seq_bit1, tabela_codigo)\n",
    "t3 = time()\n",
    "print(\"Time: \", t3 - t2)\n",
    "\n",
    "size_ini = path.getsize(\"filename_original_image\")\n",
    "size_end = path.getsize(\"filename_compressed\")\n",
    "print(\"Taxa: \", 1. * size_ini/size_end)"
   ]
  }
 ],
 "metadata": {
  "kernelspec": {
   "display_name": ".venv",
   "language": "python",
   "name": "python3"
  },
  "language_info": {
   "name": "python",
   "version": "3.13.2"
  }
 },
 "nbformat": 4,
 "nbformat_minor": 5
}
