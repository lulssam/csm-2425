{
 "cells": [
  {
   "cell_type": "markdown",
   "id": "4a1af629",
   "metadata": {},
   "source": [
    "# Trabalho Prático 3\n",
    "## ISEL - LEIM\n",
    "\n",
    "## Docente - Gonçalo Marques\n",
    "\n",
    "### Trabalho realizado por:\n",
    "Mª Luísa Melo e Sampaio Nº50799\n",
    "André Alves Nº\n",
    "Carlos Ceita Nº50950"
   ]
  },
  {
   "cell_type": "code",
   "execution_count": 16,
   "id": "84144012",
   "metadata": {},
   "outputs": [],
   "source": [
    "#imports\n",
    "from time import time\n",
    "from os import path\n",
    "import numpy as np\n",
    "import cv2\n",
    "import matplotlib.pyplot as plt\n",
    "import heapq\n",
    "from collections import defaultdict"
   ]
  },
  {
   "cell_type": "markdown",
   "id": "74981398",
   "metadata": {},
   "source": [
    "### Exercicio 1"
   ]
  },
  {
   "cell_type": "code",
   "execution_count": 17,
   "id": "54dedcc8",
   "metadata": {},
   "outputs": [],
   "source": [
    "def gen_huff_table(simbolos):\n",
    "    \"\"\"Função que cria a tabela de códigos de Huffman a partir de um dicionário \n",
    "\n",
    "    Args:\n",
    "        simbolos (dicionário): dicionário com as frequências de cada letra\n",
    "\n",
    "    Returns:\n",
    "        dicionário\n",
    "    \"\"\"\n",
    "    # Criar heap de nós: [peso, [[símbolo, código]]]\n",
    "    heap = [[peso, [[simbolo, \"\"]]] for simbolo, peso in simbolos.items()]\n",
    "    heapq.heapify(heap) # transformar lista em heap, organizar como min-heap\n",
    "\n",
    "    # Construir árvore de Huffman\n",
    "    while len(heap) > 1: # enquanto houver mais de um nó (porque fundimos dois de cada vez)\n",
    "        # remover dois nos com menor peso no heap\n",
    "        peso_lo, lista_lo = heapq.heappop(heap) \n",
    "        peso_hi, lista_hi = heapq.heappop(heap)\n",
    "\n",
    "        # Prefixos: 0 para o ramo de menor peso, 1 para o ramo de maior peso\n",
    "        for par in lista_lo:\n",
    "            par[1] = '0' + par[1] # para cada simbolo no ramo de menor peso, prefixe 0 ao codgo\n",
    "        for par in lista_hi:\n",
    "            par[1] = '1' + par[1] # para cada simbolo no ramo de maior peso, prefixa 1\n",
    "\n",
    "        # Reunir em novo nó\n",
    "        novo_no = [peso_lo + peso_hi, lista_lo + lista_hi] # novo nó: peso = soma dos 2 pesos, lista de pares = concatenação das duas listas\n",
    "        heapq.heappush(heap, novo_no) # insere novo nó na raiz da arvore e extrai a lista de simbolos e seus codigos\n",
    "\n",
    "    # Extrair tabela final\n",
    "    _, tabela = heapq.heappop(heap) # quando sobre so um no, extrair a lista e codigos\n",
    "    # Ordenar por comprimento e lexicograficamente\n",
    "    tabela.sort(key=lambda par: (len(par[1]), par[0])) #ordena 1º pelo comprimento do codigo, depois lexicograficamente pelo simbolo\n",
    "\n",
    "    # Converter para dicionário {símbolo: código}\n",
    "    return {simbolo: codigo for simbolo, codigo in tabela}"
   ]
  },
  {
   "cell_type": "code",
   "execution_count": 18,
   "id": "c4a6bb81",
   "metadata": {},
   "outputs": [
    {
     "name": "stdout",
     "output_type": "stream",
     "text": [
      "{'o': '01', 'i': '100', 'n': '000', 'r': '101', 't': '001', 'a': '1101', 'g': '1110', 'l': '1111', 's': '1100'}\n",
      "mensagem:  ooooorrriiittnnllaaggs\n"
     ]
    }
   ],
   "source": [
    "dic = {'o': 5, 'r': 3, 'i': 3, 't': 2, 'n': 2, 'l': 2, 'a': 2, 'g': 2, 's': 1} # otorrinolaringologista\n",
    "# não dá exatamente a mesma do que nos slides, perguntar ao stor se é normal\n",
    "\n",
    "tabela = gen_huff_table(dic)\n",
    "\n",
    "print(tabela) \n",
    "\n",
    "mensagem = \"\"\n",
    "for letra, indice in dic.items():\n",
    "    mensagem += letra * indice\n",
    "\n",
    "print(\"mensagem: \", mensagem)\n"
   ]
  },
  {
   "cell_type": "code",
   "execution_count": 19,
   "id": "66f38571",
   "metadata": {},
   "outputs": [
    {
     "data": {
      "image/png": "[encoded data removed]",
      "text/plain": [
       "<Figure size 640x480 with 1 Axes>"
      ]
     },
     "metadata": {},
     "output_type": "display_data"
    }
   ],
   "source": [
    "# gráfico das frequências\n",
    "dic = {'o': 5, 'r': 3, 'i': 3, 't': 2, 'n': 2, 'l': 2, 'a': 2, 'g': 2, 's': 1}\n",
    "\n",
    "plt.bar(dic.keys(), dic.values())\n",
    "plt.xlabel('Símbolo')\n",
    "plt.ylabel('Frequência')\n",
    "plt.title('Frequência dos Símbolos')\n",
    "plt.show()"
   ]
  },
  {
   "cell_type": "markdown",
   "id": "4625a87b",
   "metadata": {},
   "source": [
    "O algoritmo de Huffman foi corretamente implementado. A ordem dos códigos pode variar relativamente aos exemplos fornecidos nos slides, o que é normal, pois o algoritmo admite múltiplas soluções válidas para um mesmo conjunto de frequências."
   ]
  },
  {
   "cell_type": "markdown",
   "id": "0a09db8b",
   "metadata": {},
   "source": [
    "### Exercício 2"
   ]
  },
  {
   "cell_type": "code",
   "execution_count": 20,
   "id": "9dfcb2b0",
   "metadata": {},
   "outputs": [],
   "source": [
    "def encode_huff(mensagem, tabela):\n",
    "    \"\"\"Dada uma mensagem e a tabela do ponto anterior, retorna uma sequência de bits com mensagem codificada.\n",
    "    \n",
    "    Args:\n",
    "        mensagem (String): mensagem a codificar\n",
    "        tabela (dicionário): tabela gerada com gen_huff_table\n",
    "        \n",
    "    Returns:\n",
    "        Mensagem codificada em bits\n",
    "    \"\"\"\n",
    "    mensagem_codificada = ''.join(tabela[simbolo] for simbolo in mensagem) # percorre cada simbolo da mensagem, substitui esse simbolo pelo codigo correspondente na tabela e junta numa unica string de bits.\n",
    "    bits_total = len(mensagem_codificada) # calcular numero total de bits na mensagem (tamanho da string)\n",
    "    return mensagem_codificada, bits_total # retorna string de bits com a mensagem codidificada + numero de bits total dessa mensagem\n",
    "    "
   ]
  },
  {
   "cell_type": "code",
   "execution_count": 21,
   "id": "23810a35",
   "metadata": {},
   "outputs": [
    {
     "name": "stdout",
     "output_type": "stream",
     "text": [
      "Tabela de Huffman\n",
      "o: 01\n",
      "i: 100\n",
      "n: 000\n",
      "r: 101\n",
      "t: 001\n",
      "a: 1101\n",
      "g: 1110\n",
      "l: 1111\n",
      "s: 1100\n",
      "\n",
      "Mensagem codificada: \n",
      "01010101011011011011001001000010010000001111111111011101111011101100\n",
      "\n",
      "Tamanho total da mensagem codificada em bits: 68\n"
     ]
    }
   ],
   "source": [
    "#exemplo de uso\n",
    "mensagem_codificada, tamanho_total = encode_huff(mensagem=mensagem, tabela=tabela)\n",
    "\n",
    "print(\"Tabela de Huffman\")\n",
    "for simbolo, codigo in tabela.items():\n",
    "    print(f\"{simbolo}: {codigo}\")\n",
    "    \n",
    "print(f\"\\nMensagem codificada: \\n{mensagem_codificada}\")\n",
    "print(f\"\\nTamanho total da mensagem codificada em bits: {tamanho_total}\")"
   ]
  },
  {
   "cell_type": "markdown",
   "id": "6f978db2",
   "metadata": {},
   "source": [
    "Esta função codificou corretamente a mensagem original, respeitando os códigos Huffman atribuidos a cada simbolo. Verifica-se que a mensagem, originalmente composta por 22 letras, foi comprimida para 68 bits."
   ]
  },
  {
   "cell_type": "markdown",
   "id": "b2c59622",
   "metadata": {},
   "source": [
    "### Exercício 3"
   ]
  },
  {
   "cell_type": "code",
   "execution_count": 22,
   "id": "4f507cb6",
   "metadata": {},
   "outputs": [],
   "source": [
    "def decode_huff(mensagem_codificada, tabela):\n",
    "    \"\"\"\n",
    "    Dada uma sequência de bits e a tabela gerada com a primeira função, retornar uma sequência de símbolos.\n",
    "    Garante que a mensagem retornada é igual à mensagem dada como parâmetro de entrada da função anterior.\n",
    "    \n",
    "    Args:\n",
    "        mensagem_codificada (String): mensagem codificada acima\n",
    "        tabela (dict): Dicionário de huffman\n",
    "        \n",
    "    Returns:\n",
    "        Mensagem sequência de símbolos\n",
    "    \"\"\"\n",
    "    # inverter tabela para mapear codigos a simbolos\n",
    "    tabela_invertida = {codigo: sim for sim, codigo in tabela.items()} # cria um novo dicionario onde chave = codigo huffman, valor = simbolo correspondente (literal inverter tabela)\n",
    "    descodificada = \"\" # string que vai armazenar mensagem descodificada\n",
    "    buffer = \"\" # string temporaria para ir acumulando os bits até formar um codigo completo\n",
    "    for bit in mensagem_codificada: # iterar por cada bit (0 ou 1) da string\n",
    "        buffer += bit # adicionar bit ao buffer\n",
    "        if buffer in tabela_invertida: # se sequencia de bits acumulada no buffer exste como chave na tabela invertida\n",
    "            # se sim, encontramos um codigo de huffman\n",
    "            descodificada += tabela_invertida[buffer] # adicionar simbolo à string\n",
    "            buffer = \"\" #esvaziar buffer\n",
    "    return descodificada\n",
    "    "
   ]
  },
  {
   "cell_type": "code",
   "execution_count": 23,
   "id": "be92ff1c",
   "metadata": {},
   "outputs": [
    {
     "name": "stdout",
     "output_type": "stream",
     "text": [
      "ooooorrriiittnnllaaggs\n"
     ]
    }
   ],
   "source": [
    "# exemplos de uso\n",
    "mensagem_descodificada = decode_huff(mensagem_codificada=mensagem_codificada, tabela=tabela)\n",
    "print(mensagem_descodificada)"
   ]
  },
  {
   "cell_type": "markdown",
   "id": "37d5379c",
   "metadata": {},
   "source": [
    "Esta função conseguiu reconstruir a mensagem original a partir da sequência de bits codificada e da tabela de Huffman. A mensagem descodificada coincide com a mensagem inicial, confirmando assi, o bom funcionamento do processo de compressão e descompressão"
   ]
  },
  {
   "cell_type": "markdown",
   "id": "7731bf9c",
   "metadata": {},
   "source": [
    "### Exercício 4"
   ]
  },
  {
   "cell_type": "code",
   "execution_count": 24,
   "id": "470766d7",
   "metadata": {},
   "outputs": [],
   "source": [
    "def encode_huff_table(tabela):\n",
    "    \"\"\"\n",
    "    Dada a tabela huffman do ponto 1, retorna uma sequência de bits correspondente à tabela codificada\n",
    "    Args:\n",
    "        tabela: Tabela do ponto 1\n",
    "    \n",
    "    Returns:\n",
    "        String binária com a tabela codificada\n",
    "    \"\"\"\n",
    "    tabela_codificada = \"\" # string onde será armazenada a representação binária da tabela inteira\n",
    "    for simbolo, codigo in tabela.items(): # iterar sobre cada par simbolo-codigo da tabela\n",
    "        if isinstance(simbolo, int): # se simbolo for numero inteiro\n",
    "            # converte para binario de 8 bits\n",
    "            simbolo_bin = format(simbolo, '08b') #simbolo em 8 bits ascii\n",
    "        else:\n",
    "            # se for uma letra ou caractere, usa ord() para obter o codigo ASCII e depois converte para binário com 8 bits\n",
    "            simbolo_bin = format(ord(simbolo), '08b')\n",
    "        tamanho_codigo_bin = format(len(codigo), '05b') # comprimento do código em 5 bits -> é suficiente para representar comprimento de até 31.\n",
    "        tabela_codificada += simbolo_bin + tamanho_codigo_bin + codigo # juntar tudo\n",
    "    return tabela_codificada"
   ]
  },
  {
   "cell_type": "markdown",
   "id": "c87d2a75",
   "metadata": {},
   "source": [
    "Se a tabela for:\n",
    "\n",
    "{'A': '101', 'B': '00'}\n",
    "A função vai produzir:\n",
    "\n",
    "0100000100011101   (A → 01000001, tamanho 3 → 00011, código 101)\n",
    "0100001000010000   (B → 01000010, tamanho 2 → 00010, código 00)\n",
    "Concatenado:\n",
    "\n",
    "01000001000111010100001000010000"
   ]
  },
  {
   "cell_type": "code",
   "execution_count": 25,
   "id": "7c09a87b",
   "metadata": {},
   "outputs": [
    {
     "name": "stdout",
     "output_type": "stream",
     "text": [
      "Sequência codificada da tabela:\n",
      "011011110001001011010010001110001101110000110000111001000011101011101000001100101100001001001101011001110010011100110110000100111101110011001001100\n",
      "\n",
      "Sequência final (tabela + mensagem):\n",
      "01101111000100101101001000111000110111000011000011100100001110101110100000110010110000100100110101100111001001110011011000010011110111001100100110001010101011011011011001001000010010000001111111111011101111011101100\n",
      "\n",
      "Tamanho total: 215 bits\n"
     ]
    }
   ],
   "source": [
    "# exemplos de uso\n",
    "sequencia_tabela = encode_huff_table(tabela=tabela)\n",
    "sequencia_final = sequencia_tabela + mensagem_codificada\n",
    "print(\"Sequência codificada da tabela:\")\n",
    "print(sequencia_tabela)\n",
    "\n",
    "print(\"\\nSequência final (tabela + mensagem):\")\n",
    "print(sequencia_final)\n",
    "\n",
    "print(f\"\\nTamanho total: {len(sequencia_final)} bits\")\n"
   ]
  },
  {
   "cell_type": "markdown",
   "id": "15ac49f5",
   "metadata": {},
   "source": [
    "Esta função permite adicionar a tabela de huffman ao inicio da mensagem codificada, garantido que o recetor consiga decifrar os códigos mesmo sem conhecer previamente a tabela. \n",
    "Este resultado também demonstra como o armazenamento da tabela afeta o tamanho total do ficheiro codificado, neste caso, a tabela representa uma parte significativa"
   ]
  },
  {
   "cell_type": "markdown",
   "id": "381a07d3",
   "metadata": {},
   "source": [
    "### Exercício 5"
   ]
  },
  {
   "cell_type": "code",
   "execution_count": null,
   "id": "bc422162",
   "metadata": {},
   "outputs": [],
   "source": [
    "def write2file(mensagem_codificada, nome_ficheiro):\n",
    "    \"\"\"\n",
    "    dada uma mensagem codificada e o nome do ficheiro, escrebe a sequência de bits para o ficheiro.\n",
    "    \n",
    "    Args:                                              \n",
    "        mensagem_codificada (String): Mensagem codificada acima.\n",
    "        nome_ficheiro (String): Nome a guardar para o ficheiro.\n",
    "        \n",
    "    Returns:\n",
    "        Ficheiro txt(?) com a mensagem.\n",
    "    \"\"\"\n",
    "    with open(nome_ficheiro, 'w') as f: # abre ou cria o ficheiro no modo write. usa with para garantir que é fechado no final\n",
    "        if isinstance(mensagem_codificada, dict): # verifica se o uq efoi passado é um dicionario\n",
    "            for simbolo, codigo in mensagem_codificada.items(): # para cada simbolo, codigo\n",
    "                f.write(f\"{simbolo}: {codigo}\\n\") # escreve uma linha no ficheiro no formato simbolo: codigo\n",
    "        else:\n",
    "            # caso contrário, escreve diretamente a string no ficheiro\n",
    "            f.write(mensagem_codificada)\n",
    "    \n",
    "    "
   ]
  },
  {
   "cell_type": "code",
   "execution_count": null,
   "id": "87573ca4",
   "metadata": {},
   "outputs": [],
   "source": [
    "  # exemplos de uso\n",
    "write2file(mensagem_codificada=mensagem_codificada, nome_ficheiro=\"mensagem.txt\") # sequencia de bits\n",
    "write2file(tabela, \"tabela_huffman.txt\")\n"
   ]
  },
  {
   "cell_type": "markdown",
   "id": "4e25c6a6",
   "metadata": {},
   "source": [
    "A função permite guarda tanto a sequência de bits de mensagem como a tabela de huffman em ficheiros .txt, o que é essencial para a persistência de dados e transmissão de informação em sistemas de compressão."
   ]
  },
  {
   "cell_type": "markdown",
   "id": "9a814cc7",
   "metadata": {},
   "source": [
    "### Exercício 6"
   ]
  },
  {
   "cell_type": "code",
   "execution_count": null,
   "id": "a850a8e1",
   "metadata": {},
   "outputs": [],
   "source": [
    "def read_file(nome_ficheiro):\n",
    "    \"\"\"\n",
    "    Dado o nome do ficheiro, le uma sequência de bits (tabela codificada e mensagem codificada) contida no ficheiro e descodifica\n",
    "    a tabela.\n",
    "    \n",
    "    Args:\n",
    "        nome_ficheiro (String): nome do ficheiro a ler\n",
    "        \n",
    "    Returns:\n",
    "        Retorna a tabela descodificada assim como a sequência binária correspondente à mensagem codificada.\n",
    "    \"\"\"\n",
    "    with open(nome_ficheiro, 'r') as f: # ler richeiro\n",
    "        data = f.readlines()\n",
    "    \n",
    "    if '---' in data: # se houver separador\n",
    "        tabela_str, mensagem_codificada = data.split('---', 1) # divide o conteúdo do ficheiro em dois blocos: tabela_str-> string até ao separador, mensagem_codificada -> o resto\n",
    "        tabela = {} # dicionario vazio onde será armazenada a tabela de huffman descodificada\n",
    "        for linha in tabela_str.splitlines(): # iterar cada linha de string \n",
    "            linha = linha.strip() # remove espaços/brancos do inicio e do fim da linha\n",
    "            if linha: # se a linha não estiver vazia\n",
    "                try:\n",
    "                    #tenta dividr em duas partes pelo separador ':'\n",
    "                    simbolo, codigo = linha.split(': ', 1) # simbolo -> antes de :, codigo -> depois de :\n",
    "                    tabela[simbolo] = codigo # se conseguir, guarda no dicionario\n",
    "                except ValueError: # se estiver mal formatada\n",
    "                    pass # passa\n",
    "        return tabela, mensagem_codificada.replace('\\n', '') # retorna o dicionario tabela, a string removendo quebras de linha \n",
    "    else:\n",
    "        # se não houver separador, assume que o conteudo todo é a mensagem codificada\n",
    "        return {}, data\n",
    "    \n"
   ]
  },
  {
   "cell_type": "code",
   "execution_count": 29,
   "id": "2faaa417",
   "metadata": {},
   "outputs": [
    {
     "name": "stdout",
     "output_type": "stream",
     "text": [
      "Tabela lida:\n",
      "Mensagem codificada:\n",
      "['o: 01\\n', 'i: 100\\n', 'n: 000\\n', 'r: 101\\n', 't: 001\\n', 'a: 1101\\n', 'g: 1110\\n', 'l: 1111\\n', 's: 1100\\n']\n"
     ]
    }
   ],
   "source": [
    "tabela_lida, mensagem_lida = read_file(\"tabela_huffman.txt\")\n",
    "#print(\"Mensagem lida: \",mensagem_lida) # está a dar blank\n",
    "\n",
    "print(\"Tabela lida:\")\n",
    "for simbolo, codigo in tabela_lida.items():\n",
    "    print(f\"{simbolo}: {codigo}\")\n",
    "\n",
    "print(\"Mensagem codificada:\")\n",
    "print(mensagem_lida)"
   ]
  },
  {
   "cell_type": "markdown",
   "id": "6790f358",
   "metadata": {},
   "source": [
    "### Exercício 7"
   ]
  },
  {
   "cell_type": "code",
   "execution_count": 1,
   "id": "9a49a4d0",
   "metadata": {},
   "outputs": [
    {
     "ename": "NameError",
     "evalue": "name 'np' is not defined",
     "output_type": "error",
     "traceback": [
      "\u001b[31m---------------------------------------------------------------------------\u001b[39m",
      "\u001b[31mNameError\u001b[39m                                 Traceback (most recent call last)",
      "\u001b[36mCell\u001b[39m\u001b[36m \u001b[39m\u001b[32mIn[1]\u001b[39m\u001b[32m, line 4\u001b[39m\n\u001b[32m      1\u001b[39m \u001b[38;5;66;03m# ler um dos ficheiros\u001b[39;00m\n\u001b[32m      2\u001b[39m \n\u001b[32m      3\u001b[39m \u001b[38;5;66;03m# ==== LENA COLOR ====\u001b[39;00m\n\u001b[32m----> \u001b[39m\u001b[32m4\u001b[39m x = \u001b[43mnp\u001b[49m.fromfile(\u001b[33m\"\u001b[39m\u001b[33m/Users/luisameloesampaio/Desktop/school/ISEL/6Sem/CSM/Trabalhos/TP3/dados-CSM-TP3-Huffman/LenaColor.tif\u001b[39m\u001b[33m\"\u001b[39m, dtype=np.uint8)\n\u001b[32m      6\u001b[39m \u001b[38;5;66;03m# ==== LENA GRAY ====\u001b[39;00m\n\u001b[32m      7\u001b[39m \u001b[38;5;66;03m#x = np.fromfile(\"/Users/luisameloesampaio/Desktop/school/ISEL/6Sem/CSM/Trabalhos/TP3/dados-CSM-TP3-Huffman/LenaGray.tif\", dtype=np.uint8)\u001b[39;00m\n\u001b[32m      8\u001b[39m \n\u001b[32m   (...)\u001b[39m\u001b[32m     21\u001b[39m \n\u001b[32m     22\u001b[39m \u001b[38;5;66;03m# calcular histograma\u001b[39;00m\n\u001b[32m     23\u001b[39m h, bins, patches = plt.hist(x, \u001b[32m256\u001b[39m, [\u001b[32m0\u001b[39m, \u001b[32m256\u001b[39m])\n",
      "\u001b[31mNameError\u001b[39m: name 'np' is not defined"
     ]
    }
   ],
   "source": [
    "# ler um dos ficheiros\n",
    "\n",
    "# ==== LENA COLOR ====\n",
    "x = np.fromfile(\"/Users/luisameloesampaio/Desktop/school/ISEL/6Sem/CSM/Trabalhos/TP3/dados-CSM-TP3-Huffman/LenaColor.tif\", dtype=np.uint8)\n",
    "\n",
    "# ==== LENA GRAY ====\n",
    "#x = np.fromfile(\"/Users/luisameloesampaio/Desktop/school/ISEL/6Sem/CSM/Trabalhos/TP3/dados-CSM-TP3-Huffman/LenaGray.tif\", dtype=np.uint8)\n",
    "\n",
    "# ==== DecUniversalDH.pdf ====\n",
    "#x = np.fromfile(\"/Users/luisameloesampaio/Desktop/school/ISEL/6Sem/CSM/Trabalhos/TP3/dados-CSM-TP3-Huffman/DecUniversalDH.pdf\", dtype=np.uint8)\n",
    "\n",
    "# ==== DecUniversalDH.txt ====\n",
    "#x = np.fromfile(\"/Users/luisameloesampaio/Desktop/school/ISEL/6Sem/CSM/Trabalhos/TP3/dados-CSM-TP3-Huffman/DecUniversalDH.txt\", dtype=np.uint8)\n",
    "\n",
    "# ==== HenryMancini-PinkPanther30s.mp3 ====\n",
    "#x = np.fromfile(\"/Users/luisameloesampaio/Desktop/school/ISEL/6Sem/CSM/Trabalhos/TP3/dados-CSM-TP3-Huffman/HenryMancini-PinkPanther30s.mp3\", dtype=np.uint8)\n",
    "\n",
    "# === HenryMancini-PinkPantherC.mid ====\n",
    "#x = np.fromfile(\"/Users/luisameloesampaio/Desktop/school/ISEL/6Sem/CSM/Trabalhos/TP3/dados-CSM-TP3-Huffman/HenryMancini-PinkPantherC.mid\", dtype=np.uint8)\n",
    "\n",
    "\n",
    "# calcular histograma\n",
    "h, bins, patches = plt.hist(x, 256, [0, 256])\n",
    "\n",
    "# gerar código huffman\n",
    "to = time()\n",
    "tabela_codigo = gen_huff_table({i: 1 for i in range(256)})\n",
    "\n",
    "t1 = time()\n",
    "print(\"Time: \", t1 - to)\n",
    "\n",
    "# codificar a mensagem\n",
    "seq_bit0,_ = encode_huff(x, tabela_codigo)\n",
    "\n",
    "# codificar tabela\n",
    "seq_bit1 = encode_huff_table(tabela_codigo)\n",
    "\n",
    "# concatenar sequencia de bits fa tabela e da mensagem\n",
    "sequencia_final = seq_bit1 + \"---\" + seq_bit0\n",
    "\n",
    "# nome do ficheiro\n",
    "filename = \"compressao.txt\"\n",
    "\n",
    "# escrver ficheiro\n",
    "write2file(mensagem_codificada=sequencia_final, nome_ficheiro=filename)\n",
    "\n",
    "# cronometro \n",
    "t2 = time()\n",
    "print(\"Time: \", t2 - t1)\n",
    "\n",
    "# ler ficheiro e descodificar a tabela\n",
    "tabela_codigo, seq_bit1 = read_file(filename)\n",
    "\n",
    "# descodificar mensagem com a tabela lida\n",
    "decoded_bits = decode_huff(mensagem_codificada=mensagem_lida, tabela=tabela_lida)\n",
    "\n",
    "# converter sequência binária para inteiros 8 bits cada\n",
    "decoded_array = np.array([int(decoded_bits[i:i+8], 2) for i in range (0, len(decoded_bits), 8)], dtype=np.uint8)\n",
    "\n",
    "# comparar os primeiros 100 pixeis originais com os descodificados\n",
    "print(\"Primeiros 100 pixels originais: \", x[:100])\n",
    "print(\"Primeiros 100 pixels descodificados: \", decoded_array[:100])\n",
    "\n",
    "# descodificar mensagem\n",
    "yi = decode_huff(seq_bit1, tabela_codigo)\n",
    "t3 = time()\n",
    "print(\"Time: \", t3 - t2)\n",
    "\n",
    "\n",
    "size_ini = path.getsize(\"/Users/luisameloesampaio/Desktop/school/ISEL/6Sem/CSM/Trabalhos/TP3/dados-CSM-TP3-Huffman/LenaColor.tif\") # mudar a cada vez\n",
    "size_end = path.getsize(filename=filename)\n",
    "print(\"Taxa de compressão: {:.2f}\".format(size_ini / size_end))\n",
    "\n",
    "# calcular entropia, media de bits e eficiencia\n",
    "hist,_ = np.histogram(x, bins=256, range=(0,256))\n",
    "p = hist/np.sum(hist)\n",
    "\n",
    "# exclui valores zero para evitar\n",
    "p_nonzero = p[p > 0]\n",
    "entropia = -np.sum(p_nonzero * np.log2(p_nonzero))\n",
    "print(\"Entropia (bits por simbolo) _ {:.4f}\".format(entropia))\n",
    "\n",
    "# media de bits por símbolo na codificação efetiva\n",
    "media_bits = len(seq_bit0) / len(x)\n",
    "print(\"Média de bits por símbolo: {:.4f}\".format(media_bits))\n",
    "\n",
    "# Eficiência: razão entre entropia e média_bits (em %)\n",
    "eficiencia = (entropia / media_bits) * 100\n",
    "print(\"Eficiência: {:.2f}%\".format(eficiencia))"
   ]
  },
  {
   "cell_type": "markdown",
   "id": "08786dd3",
   "metadata": {},
   "source": [
    "<strong>Usamos o exemplo da LenaColor.tif.</strong> <br>\n",
    "O tempo para criar a tabela de códigos de Huffman com as frequências iniciais foi muito rápido. <br>\n",
    "O tempo total para codificar a mensagem e guardar os dados no ficheiro comprimido foi cerca de 60 ms, também bastante rápido. <br>\n",
    "Embora tenhamos tido um problema no array dos primeiros 100 pixeis descodificado, julgamos que será um erro no processo de leitura de ficheiro ou na reconstrução da tabela e sequência de bits a partir do ficheiro. <br>\n",
    "A taxa de compresão indica que o ficheiro comprimido tem cerca de 12% do tamanho do ficheiro original, ou seja, uma compressão de 88%. <br>\n",
    "A entropia mede a quantidade mínima média de bits necessários para codificar cada símbolo. Ora, para uma imagem 8-bit, o máximo é 8 bits por símbolo, logo 7.75 é um valor elevado: a imagem tem uma boa variedade de tons. <br>\n",
    "A média de bits por símbolo de codificação foi 8, ou seja, sem compressão efetiva. Isto confirma que a codificação não foi eficiente. <br>\n",
    "Por fim, a eficiência que está perto de 100% mostra que a codificação está proxima da entropia ideal, porém, com a média de 8 bits, mostra aqui um desfasamento nos cálculos."
   ]
  }
 ],
 "metadata": {
  "kernelspec": {
   "display_name": ".venv",
   "language": "python",
   "name": "python3"
  },
  "language_info": {
   "codemirror_mode": {
    "name": "ipython",
    "version": 3
   },
   "file_extension": ".py",
   "mimetype": "text/x-python",
   "name": "python",
   "nbconvert_exporter": "python",
   "pygments_lexer": "ipython3",
   "version": "3.13.2"
  }
 },
 "nbformat": 4,
 "nbformat_minor": 5
}
