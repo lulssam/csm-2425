{
 "cells": [
  {
   "cell_type": "markdown",
   "id": "4a1af629",
   "metadata": {},
   "source": [
    "# Trabalho Prático 3\n",
    "## ISEL - LEIM\n",
    "\n",
    "## Docente - Gonçalo Marques\n",
    "\n",
    "### Trabalho realizado por:\n",
    "Mª Luísa Melo e Sampaio Nº50799\n",
    "André Nº\n",
    "Carlos Ceita Nº50950"
   ]
  },
  {
   "cell_type": "code",
   "execution_count": 1,
   "id": "84144012",
   "metadata": {},
   "outputs": [],
   "source": [
    "#imports\n",
    "from time import time\n",
    "from os import path\n",
    "import numpy as np\n",
    "import cv2\n",
    "import matplotlib.pyplot as plt\n",
    "import heapq\n",
    "from collections import defaultdict"
   ]
  },
  {
   "cell_type": "markdown",
   "id": "74981398",
   "metadata": {},
   "source": [
    "### Exercicio 1"
   ]
  },
  {
   "cell_type": "code",
   "execution_count": null,
   "id": "54dedcc8",
   "metadata": {},
   "outputs": [],
   "source": [
    "def gen_huff_table(simbolos):\n",
    "    \"\"\"Função que cria a tabela de códigos de Huffman a partir de um dicionário \n",
    "\n",
    "    Args:\n",
    "        simbolos (dicionário): dicionário com as frequências de cada letra\n",
    "\n",
    "    Returns:\n",
    "        dicionário\n",
    "    \"\"\"\n",
    "    # Criar heap de nós: [peso, [[símbolo, código]]]\n",
    "    heap = [[peso, [[simbolo, \"\"]]] for simbolo, peso in simbolos.items()]\n",
    "    heapq.heapify(heap)\n",
    "\n",
    "    # Construir árvore de Huffman\n",
    "    while len(heap) > 1:\n",
    "        peso_lo, lista_lo = heapq.heappop(heap)\n",
    "        peso_hi, lista_hi = heapq.heappop(heap)\n",
    "\n",
    "        # Prefixos: 0 para o ramo de menor peso, 1 para o ramo de maior peso\n",
    "        for par in lista_lo:\n",
    "            par[1] = '0' + par[1]\n",
    "        for par in lista_hi:\n",
    "            par[1] = '1' + par[1]\n",
    "\n",
    "        # Reunir em novo nó\n",
    "        novo_no = [peso_lo + peso_hi, lista_lo + lista_hi]\n",
    "        heapq.heappush(heap, novo_no)\n",
    "\n",
    "    # Extrair tabela final\n",
    "    _, tabela = heapq.heappop(heap)\n",
    "    # Ordenar por comprimento e lexicograficamente\n",
    "    tabela.sort(key=lambda par: (len(par[1]), par[0]))\n",
    "\n",
    "    # Converter para dicionário {símbolo: código}\n",
    "    return {simbolo: codigo for simbolo, codigo in tabela}"
   ]
  },
  {
   "cell_type": "code",
   "execution_count": 16,
   "id": "c4a6bb81",
   "metadata": {},
   "outputs": [
    {
     "name": "stdout",
     "output_type": "stream",
     "text": [
      "{'o': '01', 'i': '100', 'n': '000', 'r': '101', 't': '001', 'a': '1101', 'g': '1110', 'l': '1111', 's': '1100'}\n",
      "mensagem:  ooooorrriiittnnllaaggs\n"
     ]
    }
   ],
   "source": [
    "dic = {'o': 5, 'r': 3, 'i': 3, 't': 2, 'n': 2, 'l': 2, 'a': 2, 'g': 2, 's': 1} # otorrinolaringologista\n",
    "# não dá exatamente a mesma do que nos slides, perguntar ao stor se é normal\n",
    "\n",
    "tabela = gen_huff_table(dic)\n",
    "\n",
    "print(tabela) \n",
    "\n",
    "mensagem = \"\"\n",
    "for letra, indice in dic.items():\n",
    "    mensagem += letra * indice\n",
    "\n",
    "print(\"mensagem: \", mensagem)\n"
   ]
  },
  {
   "cell_type": "markdown",
   "id": "0a09db8b",
   "metadata": {},
   "source": [
    "### Exercício 2"
   ]
  },
  {
   "cell_type": "code",
   "execution_count": null,
   "id": "9dfcb2b0",
   "metadata": {},
   "outputs": [],
   "source": [
    "def encode_huff(mensagem, tabela):\n",
    "    \"\"\"Dada uma mensagem e a tabela do ponto anterior, retorna uma sequência de bits com mensagem codificada.\n",
    "    \n",
    "    Args:\n",
    "        mensagem (String): mensagem a codificar\n",
    "        tabela (dicionário): tabela gerada com gen_huff_table\n",
    "        \n",
    "    Returns:\n",
    "        Mensagem codificada em bits\n",
    "    \"\"\"\n",
    "    mensagem_codificada = ''.join(tabela[simbolo] for simbolo in mensagem)\n",
    "    bits_total = len(mensagem_codificada)\n",
    "    return mensagem_codificada, bits_total\n",
    "    "
   ]
  },
  {
   "cell_type": "code",
   "execution_count": 18,
   "id": "23810a35",
   "metadata": {},
   "outputs": [
    {
     "name": "stdout",
     "output_type": "stream",
     "text": [
      "Tabela de Huffman\n",
      "o: 01\n",
      "i: 100\n",
      "n: 000\n",
      "r: 101\n",
      "t: 001\n",
      "a: 1101\n",
      "g: 1110\n",
      "l: 1111\n",
      "s: 1100\n",
      "\n",
      "Mensagem codificada: \n",
      "01010101011011011011001001000010010000001111111111011101111011101100\n",
      "\n",
      "Tamanho total da mensagem codificada em bits: 68\n"
     ]
    }
   ],
   "source": [
    "#exemplo de uso\n",
    "mensagem_codificada, tamanho_total = encode_huff(mensagem=mensagem, tabela=tabela)\n",
    "\n",
    "print(\"Tabela de Huffman\")\n",
    "for simbolo, codigo in tabela.items():\n",
    "    print(f\"{simbolo}: {codigo}\")\n",
    "    \n",
    "print(f\"\\nMensagem codificada: \\n{mensagem_codificada}\")\n",
    "print(f\"\\nTamanho total da mensagem codificada em bits: {tamanho_total}\")"
   ]
  },
  {
   "cell_type": "markdown",
   "id": "b2c59622",
   "metadata": {},
   "source": [
    "### Exercício 3"
   ]
  },
  {
   "cell_type": "code",
   "execution_count": null,
   "id": "4f507cb6",
   "metadata": {},
   "outputs": [],
   "source": [
    "def decode_huff(mensagem_codificada, tabela):\n",
    "    \"\"\"\n",
    "    Dada uma sequência de bits e a tabela gerada com a primeira função, retornar uma sequência de símbolos.\n",
    "    Garante que a mensagem retornada é igual à mensagem dada como parâmetro de entrada da função anterior.\n",
    "    \n",
    "    Args:\n",
    "        mensagem_codificada (String): mensagem codificada acima\n",
    "        tabela (dict): Dicionário de huffman\n",
    "        \n",
    "    Returns:\n",
    "        Mensagem sequência de símbolos\n",
    "    \"\"\"\n",
    "    # inverter tabela para mapear codigos a simbolos\n",
    "    tabela_invertida = {codigo: sim for sim, codigo in tabela.items()}\n",
    "    descodificada = \"\"\n",
    "    buffer = \"\"\n",
    "    for bit in mensagem_codificada:\n",
    "        buffer += bit\n",
    "        if buffer in tabela_invertida:\n",
    "            descodificada += tabela_invertida[buffer]\n",
    "            buffer = \"\"\n",
    "    return descodificada\n",
    "    "
   ]
  },
  {
   "cell_type": "code",
   "execution_count": 22,
   "id": "be92ff1c",
   "metadata": {},
   "outputs": [
    {
     "name": "stdout",
     "output_type": "stream",
     "text": [
      "ooooorrriiittnnllaaggs\n"
     ]
    }
   ],
   "source": [
    "# exemplos de uso\n",
    "mensagem_descodificada = decode_huff(mensagem_codificada=mensagem_codificada, tabela=tabela)\n",
    "print(mensagem_descodificada)"
   ]
  },
  {
   "cell_type": "markdown",
   "id": "7731bf9c",
   "metadata": {},
   "source": [
    "### Exercício 4"
   ]
  },
  {
   "cell_type": "code",
   "execution_count": 23,
   "id": "470766d7",
   "metadata": {},
   "outputs": [],
   "source": [
    "def encode_huff_table(tabela):\n",
    "    \"\"\"\n",
    "    Dada a tabela huffman do ponto 1, retorna uma sequência de bits correspondente à tabela codificada\n",
    "    Args:\n",
    "        tabela: Tabela do ponto 1\n",
    "    \n",
    "    Returns:\n",
    "        String binária com a tabela codificada\n",
    "    \"\"\"\n",
    "    tabela_codificada = \"\"\n",
    "    for simbolo, codigo in tabela.items():\n",
    "        simbolo_bin = format(ord(simbolo), '08b') #simbolo em 8 bits ascii\n",
    "        tamanho_codigo_bin = format(len(codigo), '05b') # comprimento do código em 5 bits\n",
    "        tabela_codificada += simbolo_bin + tamanho_codigo_bin + codigo # juntar tudo\n",
    "    return tabela_codificada"
   ]
  },
  {
   "cell_type": "code",
   "execution_count": 26,
   "id": "7c09a87b",
   "metadata": {},
   "outputs": [
    {
     "name": "stdout",
     "output_type": "stream",
     "text": [
      "Sequência codificada da tabela:\n",
      "011011110001001011010010001110001101110000110000111001000011101011101000001100101100001001001101011001110010011100110110000100111101110011001001100\n",
      "\n",
      "Sequência final (tabela + mensagem):\n",
      "01101111000100101101001000111000110111000011000011100100001110101110100000110010110000100100110101100111001001110011011000010011110111001100100110001010101011011011011001001000010010000001111111111011101111011101100\n",
      "\n",
      "Tamanho total: 215 bits\n"
     ]
    }
   ],
   "source": [
    "# exemplos de uso\n",
    "sequencia_tabela = encode_huff_table(tabela=tabela)\n",
    "sequencia_final = sequencia_tabela + mensagem_codificada\n",
    "print(\"Sequência codificada da tabela:\")\n",
    "print(sequencia_tabela)\n",
    "\n",
    "print(\"\\nSequência final (tabela + mensagem):\")\n",
    "print(sequencia_final)\n",
    "\n",
    "print(f\"\\nTamanho total: {len(sequencia_final)} bits\")\n"
   ]
  },
  {
   "cell_type": "code",
   "execution_count": null,
   "id": "9a49a4d0",
   "metadata": {},
   "outputs": [],
   "source": [
    "# ler um dos ficheiros\n",
    "x = np.fromfile(\"LenaGray.tif\", dtype=uint8)\n",
    "\n",
    "# calcular histograma\n",
    "h, bins, patches = plt.hist(x, 256, [0, 256])\n",
    "\n",
    "# gerar código huffman\n",
    "to = time()\n",
    "tabela_codigo = gen_huff_table(np.arange(0,256), h)\n",
    "\n",
    "t1 = time()\n",
    "print(\"Time: \", t1 - to)\n",
    "\n",
    "# codificar a mensagem\n",
    "seq_bit0 = encode_huff(x, tabela_codigo)\n",
    "\n",
    "# codificar tabela\n",
    "seq_bit1 = encode_huff_table(tabela_codigo)\n",
    "\n",
    "# concatenar sequencia de bits fa tabela e da mensagem\n",
    "...\n",
    "\n",
    "# escrver ficheiro\n",
    "write2file(..., filename)\n",
    "t2 = time()\n",
    "print(\"Time: \", t2 - t1)\n",
    "\n",
    "# ler ficheiro e descodificar a tabela\n",
    "tabela_codigo, seq_bit1 = read_file(filename)\n",
    "\n",
    "# descodificar mensagem\n",
    "yi = decode_huff(seq_bit1, tabela_codigo)\n",
    "t3 = time()\n",
    "print(\"Time: \", t3 - t2)\n",
    "\n",
    "size_ini = path.getsize(\"filename_original_image\")\n",
    "size_end = path.getsize(\"filename_compressed\")\n",
    "print(\"Taxa: \", 1. * size_ini/size_end)"
   ]
  }
 ],
 "metadata": {
  "kernelspec": {
   "display_name": ".venv",
   "language": "python",
   "name": "python3"
  },
  "language_info": {
   "codemirror_mode": {
    "name": "ipython",
    "version": 3
   },
   "file_extension": ".py",
   "mimetype": "text/x-python",
   "name": "python",
   "nbconvert_exporter": "python",
   "pygments_lexer": "ipython3",
   "version": "3.13.2"
  }
 },
 "nbformat": 4,
 "nbformat_minor": 5
}
