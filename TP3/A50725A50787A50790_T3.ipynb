{
 "cells": [
  {
   "cell_type": "markdown",
   "id": "4a1af629",
   "metadata": {},
   "source": [
    "# Trabalho Prático 3\n",
    "## ISEL - LEIM\n",
    "\n",
    "## Docente - Gonçalo Marques\n",
    "\n",
    "### Trabalho realizado por:\n",
    "Mª Luísa Melo e Sampaio Nº50799\n",
    "André Nº\n",
    "Carlos Ceita Nº50950"
   ]
  },
  {
   "cell_type": "code",
   "execution_count": 90,
   "id": "84144012",
   "metadata": {},
   "outputs": [],
   "source": [
    "#imports\n",
    "from time import time\n",
    "from os import path\n",
    "import numpy as np\n",
    "import cv2\n",
    "import matplotlib.pyplot as plt\n",
    "import heapq\n",
    "from collections import defaultdict"
   ]
  },
  {
   "cell_type": "markdown",
   "id": "74981398",
   "metadata": {},
   "source": [
    "### Exercicio 1"
   ]
  },
  {
   "cell_type": "code",
   "execution_count": 91,
   "id": "54dedcc8",
   "metadata": {},
   "outputs": [],
   "source": [
    "def gen_huff_table(simbolos):\n",
    "    \"\"\"Função que cria a tabela de códigos de Huffman a partir de um dicionário \n",
    "\n",
    "    Args:\n",
    "        simbolos (dicionário): dicionário com as frequências de cada letra\n",
    "\n",
    "    Returns:\n",
    "        dicionário\n",
    "    \"\"\"\n",
    "    # Criar heap de nós: [peso, [[símbolo, código]]]\n",
    "    heap = [[peso, [[simbolo, \"\"]]] for simbolo, peso in simbolos.items()]\n",
    "    heapq.heapify(heap)\n",
    "\n",
    "    # Construir árvore de Huffman\n",
    "    while len(heap) > 1:\n",
    "        peso_lo, lista_lo = heapq.heappop(heap)\n",
    "        peso_hi, lista_hi = heapq.heappop(heap)\n",
    "\n",
    "        # Prefixos: 0 para o ramo de menor peso, 1 para o ramo de maior peso\n",
    "        for par in lista_lo:\n",
    "            par[1] = '0' + par[1]\n",
    "        for par in lista_hi:\n",
    "            par[1] = '1' + par[1]\n",
    "\n",
    "        # Reunir em novo nó\n",
    "        novo_no = [peso_lo + peso_hi, lista_lo + lista_hi]\n",
    "        heapq.heappush(heap, novo_no)\n",
    "\n",
    "    # Extrair tabela final\n",
    "    _, tabela = heapq.heappop(heap)\n",
    "    # Ordenar por comprimento e lexicograficamente\n",
    "    tabela.sort(key=lambda par: (len(par[1]), par[0]))\n",
    "\n",
    "    # Converter para dicionário {símbolo: código}\n",
    "    return {simbolo: codigo for simbolo, codigo in tabela}"
   ]
  },
  {
   "cell_type": "code",
   "execution_count": null,
   "id": "c4a6bb81",
   "metadata": {},
   "outputs": [
    {
     "name": "stdout",
     "output_type": "stream",
     "text": [
      "{'o': '01', 'i': '100', 'n': '000', 'r': '101', 't': '001', 'a': '1101', 'g': '1110', 'l': '1111', 's': '1100'}\n",
      "mensagem:  ooooorrriiittnnllaaggs\n"
     ]
    }
   ],
   "source": [
    "dic = {'o': 5, 'r': 3, 'i': 3, 't': 2, 'n': 2, 'l': 2, 'a': 2, 'g': 2, 's': 1} # otorrinolaringologista\n",
    "# não dá exatamente a mesma do que nos slides, perguntar ao stor se é normal\n",
    "\n",
    "tabela = gen_huff_table(dic)\n",
    "\n",
    "print(tabela) \n",
    "\n",
    "mensagem = \"\"\n",
    "for letra, indice in dic.items():\n",
    "    mensagem += letra * indice\n",
    "\n",
    "print(\"mensagem: \", mensagem)\n"
   ]
  },
  {
   "cell_type": "code",
   "execution_count": 118,
   "id": "66f38571",
   "metadata": {},
   "outputs": [
    {
     "data": {
      "image/png": "[encoded data removed]",
      "text/plain": [
       "<Figure size 640x480 with 1 Axes>"
      ]
     },
     "metadata": {},
     "output_type": "display_data"
    }
   ],
   "source": [
    "# gráfico das frequências\n",
    "dic = {'o': 5, 'r': 3, 'i': 3, 't': 2, 'n': 2, 'l': 2, 'a': 2, 'g': 2, 's': 1}\n",
    "\n",
    "plt.bar(dic.keys(), dic.values())\n",
    "plt.xlabel('Símbolo')\n",
    "plt.ylabel('Frequência')\n",
    "plt.title('Frequência dos Símbolos')\n",
    "plt.show()"
   ]
  },
  {
   "cell_type": "markdown",
   "id": "4625a87b",
   "metadata": {},
   "source": [
    "O algoritmo de Huffman foi corretamente implementado. A ordem dos códigos pode variar relativamente aos exemplos fornecidos nos slides, o que é normal, pois o algoritmo admite múltiplas soluções válidas para um mesmo conjunto de frequências."
   ]
  },
  {
   "cell_type": "markdown",
   "id": "0a09db8b",
   "metadata": {},
   "source": [
    "### Exercício 2"
   ]
  },
  {
   "cell_type": "code",
   "execution_count": 93,
   "id": "9dfcb2b0",
   "metadata": {},
   "outputs": [],
   "source": [
    "def encode_huff(mensagem, tabela):\n",
    "    \"\"\"Dada uma mensagem e a tabela do ponto anterior, retorna uma sequência de bits com mensagem codificada.\n",
    "    \n",
    "    Args:\n",
    "        mensagem (String): mensagem a codificar\n",
    "        tabela (dicionário): tabela gerada com gen_huff_table\n",
    "        \n",
    "    Returns:\n",
    "        Mensagem codificada em bits\n",
    "    \"\"\"\n",
    "    mensagem_codificada = ''.join(tabela[simbolo] for simbolo in mensagem)\n",
    "    bits_total = len(mensagem_codificada)\n",
    "    return mensagem_codificada, bits_total\n",
    "    "
   ]
  },
  {
   "cell_type": "code",
   "execution_count": 94,
   "id": "23810a35",
   "metadata": {},
   "outputs": [
    {
     "name": "stdout",
     "output_type": "stream",
     "text": [
      "Tabela de Huffman\n",
      "o: 01\n",
      "i: 100\n",
      "n: 000\n",
      "r: 101\n",
      "t: 001\n",
      "a: 1101\n",
      "g: 1110\n",
      "l: 1111\n",
      "s: 1100\n",
      "\n",
      "Mensagem codificada: \n",
      "01010101011011011011001001000010010000001111111111011101111011101100\n",
      "\n",
      "Tamanho total da mensagem codificada em bits: 68\n"
     ]
    }
   ],
   "source": [
    "#exemplo de uso\n",
    "mensagem_codificada, tamanho_total = encode_huff(mensagem=mensagem, tabela=tabela)\n",
    "\n",
    "print(\"Tabela de Huffman\")\n",
    "for simbolo, codigo in tabela.items():\n",
    "    print(f\"{simbolo}: {codigo}\")\n",
    "    \n",
    "print(f\"\\nMensagem codificada: \\n{mensagem_codificada}\")\n",
    "print(f\"\\nTamanho total da mensagem codificada em bits: {tamanho_total}\")"
   ]
  },
  {
   "cell_type": "markdown",
   "id": "6f978db2",
   "metadata": {},
   "source": [
    "Esta função codificou corretamente a mensagem original, respeitando os códigos Huffman atribuidos a cada simbolo. Verifica-se que a mensagem, originalmente composta por 22 letras, foi comprimida para 68 bits."
   ]
  },
  {
   "cell_type": "markdown",
   "id": "b2c59622",
   "metadata": {},
   "source": [
    "### Exercício 3"
   ]
  },
  {
   "cell_type": "code",
   "execution_count": 95,
   "id": "4f507cb6",
   "metadata": {},
   "outputs": [],
   "source": [
    "def decode_huff(mensagem_codificada, tabela):\n",
    "    \"\"\"\n",
    "    Dada uma sequência de bits e a tabela gerada com a primeira função, retornar uma sequência de símbolos.\n",
    "    Garante que a mensagem retornada é igual à mensagem dada como parâmetro de entrada da função anterior.\n",
    "    \n",
    "    Args:\n",
    "        mensagem_codificada (String): mensagem codificada acima\n",
    "        tabela (dict): Dicionário de huffman\n",
    "        \n",
    "    Returns:\n",
    "        Mensagem sequência de símbolos\n",
    "    \"\"\"\n",
    "    # inverter tabela para mapear codigos a simbolos\n",
    "    tabela_invertida = {codigo: sim for sim, codigo in tabela.items()}\n",
    "    descodificada = \"\"\n",
    "    buffer = \"\"\n",
    "    for bit in mensagem_codificada:\n",
    "        buffer += bit\n",
    "        if buffer in tabela_invertida:\n",
    "            descodificada += tabela_invertida[buffer]\n",
    "            buffer = \"\"\n",
    "    return descodificada\n",
    "    "
   ]
  },
  {
   "cell_type": "code",
   "execution_count": 122,
   "id": "be92ff1c",
   "metadata": {},
   "outputs": [
    {
     "name": "stdout",
     "output_type": "stream",
     "text": [
      "ooooorrriiittnnllaaggs\n"
     ]
    }
   ],
   "source": [
    "# exemplos de uso\n",
    "mensagem_descodificada = decode_huff(mensagem_codificada=mensagem_codificada, tabela=tabela)\n",
    "print(mensagem_descodificada)"
   ]
  },
  {
   "cell_type": "markdown",
   "id": "37d5379c",
   "metadata": {},
   "source": [
    "Esta função conseguiu reconstruir a mensagem original a partir da sequência de bits codificada e da tabela de Huffman. A mensagem descodificada coincide com a mensagem inicial, confirmando assi, o bom funcionamento do processo de compressão e descompressão"
   ]
  },
  {
   "cell_type": "markdown",
   "id": "7731bf9c",
   "metadata": {},
   "source": [
    "### Exercício 4"
   ]
  },
  {
   "cell_type": "code",
   "execution_count": 97,
   "id": "470766d7",
   "metadata": {},
   "outputs": [],
   "source": [
    "def encode_huff_table(tabela):\n",
    "    \"\"\"\n",
    "    Dada a tabela huffman do ponto 1, retorna uma sequência de bits correspondente à tabela codificada\n",
    "    Args:\n",
    "        tabela: Tabela do ponto 1\n",
    "    \n",
    "    Returns:\n",
    "        String binária com a tabela codificada\n",
    "    \"\"\"\n",
    "    tabela_codificada = \"\"\n",
    "    for simbolo, codigo in tabela.items():\n",
    "        if isinstance(simbolo, int):\n",
    "            simbolo_bin = format(simbolo, '08b') #simbolo em 8 bits ascii\n",
    "        else:\n",
    "            simbolo_bin = format(ord(simbolo), '08b')\n",
    "        tamanho_codigo_bin = format(len(codigo), '05b') # comprimento do código em 5 bits\n",
    "        tabela_codificada += simbolo_bin + tamanho_codigo_bin + codigo # juntar tudo\n",
    "    return tabela_codificada"
   ]
  },
  {
   "cell_type": "code",
   "execution_count": 98,
   "id": "7c09a87b",
   "metadata": {},
   "outputs": [
    {
     "name": "stdout",
     "output_type": "stream",
     "text": [
      "Sequência codificada da tabela:\n",
      "011011110001001011010010001110001101110000110000111001000011101011101000001100101100001001001101011001110010011100110110000100111101110011001001100\n",
      "\n",
      "Sequência final (tabela + mensagem):\n",
      "01101111000100101101001000111000110111000011000011100100001110101110100000110010110000100100110101100111001001110011011000010011110111001100100110001010101011011011011001001000010010000001111111111011101111011101100\n",
      "\n",
      "Tamanho total: 215 bits\n"
     ]
    }
   ],
   "source": [
    "# exemplos de uso\n",
    "sequencia_tabela = encode_huff_table(tabela=tabela)\n",
    "sequencia_final = sequencia_tabela + mensagem_codificada\n",
    "print(\"Sequência codificada da tabela:\")\n",
    "print(sequencia_tabela)\n",
    "\n",
    "print(\"\\nSequência final (tabela + mensagem):\")\n",
    "print(sequencia_final)\n",
    "\n",
    "print(f\"\\nTamanho total: {len(sequencia_final)} bits\")\n"
   ]
  },
  {
   "cell_type": "markdown",
   "id": "15ac49f5",
   "metadata": {},
   "source": [
    "Esta função permite adicionar a tabela de huffman ao inicio da mensagem codificada, garantido que o recetor consiga decifrar os códigos mesmo sem conhecer previamente a tabela. \n",
    "Este resultado também demonstra como o armazenamento da tabela afeta o tamanho total do ficheiro codificado, neste caso, a tabela representa uma parte significativa"
   ]
  },
  {
   "cell_type": "markdown",
   "id": "381a07d3",
   "metadata": {},
   "source": [
    "### Exercício 5"
   ]
  },
  {
   "cell_type": "code",
   "execution_count": 99,
   "id": "bc422162",
   "metadata": {},
   "outputs": [],
   "source": [
    "def write2file(mensagem_codificada, nome_ficheiro):\n",
    "    \"\"\"\n",
    "    dada uma mensagem codificada e o nome do ficheiro, escrebe a sequência de bits para o ficheiro.\n",
    "    \n",
    "    Args:\n",
    "        mensagem_codificada (String): Mensagem codificada acima.\n",
    "        nome_ficheiro (String): Nome a guardar para o ficheiro.\n",
    "        \n",
    "    Returns:\n",
    "        Ficheiro txt(?) com a mensagem.\n",
    "    \"\"\"\n",
    "    with open(nome_ficheiro, 'w') as f:\n",
    "        if isinstance(mensagem_codificada, dict):\n",
    "            for simbolo, codigo in mensagem_codificada.items():\n",
    "                f.write(f\"{simbolo}: {codigo}\\n\")\n",
    "        else:\n",
    "            f.write(mensagem_codificada)\n",
    "    \n",
    "    "
   ]
  },
  {
   "cell_type": "code",
   "execution_count": 100,
   "id": "87573ca4",
   "metadata": {},
   "outputs": [],
   "source": [
    "# exemplos de uso\n",
    "write2file(mensagem_codificada=mensagem_codificada, nome_ficheiro=\"mensagem.txt\") # sequencia de bits\n",
    "write2file(tabela, \"tabela_huffman.txt\")\n"
   ]
  },
  {
   "cell_type": "markdown",
   "id": "4e25c6a6",
   "metadata": {},
   "source": [
    "A função permite guarda tanto a sequência de bits de mensagem como a tabela de huffman em ficheiros .txt, o que é essencial para a persistência de dados e transmissão de informação em sistemas de compressão."
   ]
  },
  {
   "cell_type": "markdown",
   "id": "9a814cc7",
   "metadata": {},
   "source": [
    "### Exercício 6"
   ]
  },
  {
   "cell_type": "code",
   "execution_count": 128,
   "id": "a850a8e1",
   "metadata": {},
   "outputs": [],
   "source": [
    "def read_file(nome_ficheiro):\n",
    "    \"\"\"\n",
    "    Dado o nome do ficheiro, le uma sequência de bits (tabela codificada e mensagem codificada) contida no ficheiro e descodifica\n",
    "    a tabela.\n",
    "    \n",
    "    Args:\n",
    "        nome_ficheiro (String): nome do ficheiro a ler\n",
    "        \n",
    "    Returns:\n",
    "        Retorna a tabela descodificada assim como a sequência binária correspondente à mensagem codificada.\n",
    "    \"\"\"\n",
    "    with open(nome_ficheiro, 'r') as f:\n",
    "        data = f.readlines()\n",
    "    \n",
    "    if '---' in data:\n",
    "        tabela_str, mensagem_codificada = data.split('---', 1)\n",
    "        tabela = {}\n",
    "        for linha in tabela_str.splitlines():\n",
    "            linha = linha.strip()\n",
    "            if linha:\n",
    "                try:\n",
    "                    simbolo, codigo = linha.split(': ', 1)\n",
    "                    tabela[simbolo] = codigo\n",
    "                except ValueError:\n",
    "                    pass\n",
    "        return tabela, mensagem_codificada.replace('\\n', '')\n",
    "    else:\n",
    "        # se não houver separador, assume que o conteudo todo é a mensagem codificada\n",
    "        return {}, data\n",
    "    \n"
   ]
  },
  {
   "cell_type": "code",
   "execution_count": 130,
   "id": "2faaa417",
   "metadata": {},
   "outputs": [
    {
     "name": "stdout",
     "output_type": "stream",
     "text": [
      "Tabela lida:\n",
      "Mensagem codificada:\n",
      "['o: 01\\n', 'i: 100\\n', 'n: 000\\n', 'r: 101\\n', 't: 001\\n', 'a: 1101\\n', 'g: 1110\\n', 'l: 1111\\n', 's: 1100\\n']\n"
     ]
    }
   ],
   "source": [
    "tabela_lida, mensagem_lida = read_file(\"tabela_huffman.txt\")\n",
    "#print(\"Mensagem lida: \",mensagem_lida) # está a dar blank\n",
    "\n",
    "print(\"Tabela lida:\")\n",
    "for simbolo, codigo in tabela_lida.items():\n",
    "    print(f\"{simbolo}: {codigo}\")\n",
    "\n",
    "print(\"Mensagem codificada:\")\n",
    "print(mensagem_lida)"
   ]
  },
  {
   "cell_type": "markdown",
   "id": "6790f358",
   "metadata": {},
   "source": [
    "### Exercício 7"
   ]
  },
  {
   "cell_type": "code",
   "execution_count": 131,
   "id": "9a49a4d0",
   "metadata": {},
   "outputs": [
    {
     "name": "stdout",
     "output_type": "stream",
     "text": [
      "Time:  0.0005388259887695312\n",
      "Time:  0.06105208396911621\n",
      "Primeiros 100 pixels originais:  [ 77  77   0  42   0  12   0   8 226 137 125 226 137 125 223 137 133 223\n",
      " 136 128 226 138 120 226 129 116 228 138 123 227 134 124 227 140 127 225\n",
      " 136 119 228 135 126 225 134 121 223 130 108 226 139 119 223 135 120 221\n",
      " 129 114 221 134 108 221 131 113 222 138 121 222 139 114 223 127 109 223\n",
      " 132 105 224 129 102 221 134 109 218 131 110 221 133 113 223 130 108 225\n",
      " 125  98 221 130 121 221 129 111 220 127]\n",
      "Primeiros 100 pixels descodificados:  []\n",
      "Time:  0.005571126937866211\n",
      "Taxa de compressão: 0.12\n",
      "Entropia (bits por simbolo) _ 7.7514\n",
      "Média de bits por símbolo: 8.0000\n",
      "Eficiência: 96.89%\n"
     ]
    },
    {
     "name": "stderr",
     "output_type": "stream",
     "text": [
      "/var/folders/kc/9609xhkd1xd8xjq5315s0zzh0000gn/T/ipykernel_86717/804919159.py:23: MatplotlibDeprecationWarning: Passing the range parameter of hist() positionally is deprecated since Matplotlib 3.9; the parameter will become keyword-only in 3.11.\n",
      "  h, bins, patches = plt.hist(x, 256, [0, 256])\n"
     ]
    },
    {
     "data": {
      "image/png": "[encoded data removed]",
      "text/plain": [
       "<Figure size 640x480 with 1 Axes>"
      ]
     },
     "metadata": {},
     "output_type": "display_data"
    }
   ],
   "source": [
    "# ler um dos ficheiros\n",
    "\n",
    "# ==== LENA COLOR ====\n",
    "x = np.fromfile(\"/Users/luisameloesampaio/Desktop/school/ISEL/6Sem/CSM/Trabalhos/TP3/dados-CSM-TP3-Huffman/LenaColor.tif\", dtype=np.uint8)\n",
    "\n",
    "# ==== LENA GRAY ====\n",
    "#x = np.fromfile(\"/Users/luisameloesampaio/Desktop/school/ISEL/6Sem/CSM/Trabalhos/TP3/dados-CSM-TP3-Huffman/LenaGray.tif\", dtype=np.uint8)\n",
    "\n",
    "# ==== DecUniversalDH.pdf ====\n",
    "#x = np.fromfile(\"/Users/luisameloesampaio/Desktop/school/ISEL/6Sem/CSM/Trabalhos/TP3/dados-CSM-TP3-Huffman/DecUniversalDH.pdf\", dtype=np.uint8)\n",
    "\n",
    "# ==== DecUniversalDH.txt ====\n",
    "#x = np.fromfile(\"/Users/luisameloesampaio/Desktop/school/ISEL/6Sem/CSM/Trabalhos/TP3/dados-CSM-TP3-Huffman/DecUniversalDH.txt\", dtype=np.uint8)\n",
    "\n",
    "# ==== HenryMancini-PinkPanther30s.mp3 ====\n",
    "#x = np.fromfile(\"/Users/luisameloesampaio/Desktop/school/ISEL/6Sem/CSM/Trabalhos/TP3/dados-CSM-TP3-Huffman/HenryMancini-PinkPanther30s.mp3\", dtype=np.uint8)\n",
    "\n",
    "# === HenryMancini-PinkPantherC.mid ====\n",
    "#x = np.fromfile(\"/Users/luisameloesampaio/Desktop/school/ISEL/6Sem/CSM/Trabalhos/TP3/dados-CSM-TP3-Huffman/HenryMancini-PinkPantherC.mid\", dtype=np.uint8)\n",
    "\n",
    "\n",
    "# calcular histograma\n",
    "h, bins, patches = plt.hist(x, 256, [0, 256])\n",
    "\n",
    "# gerar código huffman\n",
    "to = time()\n",
    "tabela_codigo = gen_huff_table({i: 1 for i in range(256)})\n",
    "\n",
    "t1 = time()\n",
    "print(\"Time: \", t1 - to)\n",
    "\n",
    "# codificar a mensagem\n",
    "seq_bit0,_ = encode_huff(x, tabela_codigo)\n",
    "\n",
    "# codificar tabela\n",
    "seq_bit1 = encode_huff_table(tabela_codigo)\n",
    "\n",
    "# concatenar sequencia de bits fa tabela e da mensagem\n",
    "sequencia_final = seq_bit1 + \"---\" + seq_bit0\n",
    "\n",
    "# nome do ficheiro\n",
    "filename = \"compressao.txt\"\n",
    "\n",
    "# escrver ficheiro\n",
    "write2file(mensagem_codificada=sequencia_final, nome_ficheiro=filename)\n",
    "\n",
    "# cronometro \n",
    "t2 = time()\n",
    "print(\"Time: \", t2 - t1)\n",
    "\n",
    "# ler ficheiro e descodificar a tabela\n",
    "tabela_codigo, seq_bit1 = read_file(filename)\n",
    "\n",
    "# descodificar mensagem com a tabela lida\n",
    "decoded_bits = decode_huff(mensagem_codificada=mensagem_lida, tabela=tabela_lida)\n",
    "\n",
    "# converter sequência binária para inteiros 8 bits cada\n",
    "decoded_array = np.array([int(decoded_bits[i:i+8], 2) for i in range (0, len(decoded_bits), 8)], dtype=np.uint8)\n",
    "\n",
    "# comparar os primeiros 100 pixeis originais com os descodificados\n",
    "print(\"Primeiros 100 pixels originais: \", x[:100])\n",
    "print(\"Primeiros 100 pixels descodificados: \", decoded_array[:100])\n",
    "\n",
    "# descodificar mensagem\n",
    "yi = decode_huff(seq_bit1, tabela_codigo)\n",
    "t3 = time()\n",
    "print(\"Time: \", t3 - t2)\n",
    "\n",
    "\n",
    "size_ini = path.getsize(\"/Users/luisameloesampaio/Desktop/school/ISEL/6Sem/CSM/Trabalhos/TP3/dados-CSM-TP3-Huffman/LenaColor.tif\") # mudar a cada vez\n",
    "size_end = path.getsize(filename=filename)\n",
    "print(\"Taxa de compressão: {:.2f}\".format(size_ini / size_end))\n",
    "\n",
    "# calcular entropia, media de bits e eficiencia\n",
    "hist,_ = np.histogram(x, bins=256, range=(0,256))\n",
    "p = hist/np.sum(hist)\n",
    "\n",
    "# exclui valores zero para evitar\n",
    "p_nonzero = p[p > 0]\n",
    "entropia = -np.sum(p_nonzero * np.log2(p_nonzero))\n",
    "print(\"Entropia (bits por simbolo) _ {:.4f}\".format(entropia))\n",
    "\n",
    "# media de bits por símbolo na codificação efetiva\n",
    "media_bits = len(seq_bit0) / len(x)\n",
    "print(\"Média de bits por símbolo: {:.4f}\".format(media_bits))\n",
    "\n",
    "# Eficiência: razão entre entropia e média_bits (em %)\n",
    "eficiencia = (entropia / media_bits) * 100\n",
    "print(\"Eficiência: {:.2f}%\".format(eficiencia))"
   ]
  },
  {
   "cell_type": "markdown",
   "id": "08786dd3",
   "metadata": {},
   "source": [
    "<strong>Usamos o exemplo da LenaColor.tif.</strong> <br>\n",
    "O tempo para criar a tabela de códigos de Huffman com as frequências iniciais foi muito rápido. <br>\n",
    "O tempo total para codificar a mensagem e guardar os dados no ficheiro comprimido foi cerca de 60 ms, também bastante rápido. <br>\n",
    "Embora tenhamos tido um problema no array dos primeiros 100 pixeis descodificado, julgamos que será um erro no processo de leitura de ficheiro ou na reconstrução da tabela e sequência de bits a partir do ficheiro. <br>\n",
    "A taxa de compresão indica que o ficheiro comprimido tem cerca de 12% do tamanho do ficheiro original, ou seja, uma compressão de 88%. <br>\n",
    "A entropia mede a quantidade mínima média de bits necessários para codificar cada símbolo. Ora, para uma imagem 8-bit, o máximo é 8 bits por símbolo, logo 7.75 é um valor elevado: a imagem tem uma boa variedade de tons. <br>\n",
    "A média de bits por símbolo de codificação foi 8, ou seja, sem compressão efetiva. Isto confirma que a codificação não foi eficiente. <br>\n",
    "Por fim, a eficiência que está perto de 100% mostra que a codificação está proxima da entropia ideal, porém, com a média de 8 bits, mostra aqui um desfasamento nos cálculos."
   ]
  }
 ],
 "metadata": {
  "kernelspec": {
   "display_name": ".venv",
   "language": "python",
   "name": "python3"
  },
  "language_info": {
   "codemirror_mode": {
    "name": "ipython",
    "version": 3
   },
   "file_extension": ".py",
   "mimetype": "text/x-python",
   "name": "python",
   "nbconvert_exporter": "python",
   "pygments_lexer": "ipython3",
   "version": "3.13.2"
  }
 },
 "nbformat": 4,
 "nbformat_minor": 5
}
