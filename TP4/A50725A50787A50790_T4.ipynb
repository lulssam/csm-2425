{
 "cells": [
  {
   "cell_type": "markdown",
   "id": "1f347dcf",
   "metadata": {},
   "source": [
    "# Trabalho Prático 4\n",
    "## ISEL - LEIM\n",
    "\n",
    "## Docente - Gonçalo Marques\n",
    "\n",
    "### Trabalho realizado por:\n",
    "Mª Luísa Melo e Sampaio Nº50799\n",
    "André Nº\n",
    "Carlos Ceita Nº50950"
   ]
  }
 ],
 "metadata": {
  "language_info": {
   "name": "python"
  }
 },
 "nbformat": 4,
 "nbformat_minor": 5
}
